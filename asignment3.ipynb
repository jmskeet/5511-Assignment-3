{
 "cells": [
  {
   "cell_type": "code",
   "execution_count": null,
   "id": "305a5b9a",
   "metadata": {},
   "outputs": [],
   "source": [
    "import numpy as np \n",
    "import pandas as pd \n",
    "import os\n",
    "import matplotlib.pyplot as plt\n",
    "import seaborn as sns\n",
    "import math\n",
    "import time\n",
    "import cv2\n",
    "from sklearn import metrics\n",
    "import gc\n",
    "\n",
    "import tensorflow as tf\n",
    "from tensorflow.keras import layers\n",
    "from tensorflow.keras import models\n"
   ]
  },
  {
   "cell_type": "code",
   "execution_count": null,
   "id": "9c697e12",
   "metadata": {},
   "outputs": [],
   "source": [
    "folder_train = \"/kaggle/input/histopathologic-cancer-detection/train/\"\n",
    "folder_test = \"/kaggle/input/histopathologic-cancer-detection/test/\"\n",
    "\n",
    "sample_df = pd.read_csv(\"/kaggle/input/histopathologic-cancer-detection/sample_submission.csv\")\n",
    "label_df = pd.read_csv(\"/kaggle/input/histopathologic-cancer-detection/train_labels.csv\")\n",
    "\n",
    "train_name = label_df[\"id\"].to_numpy()\n",
    "test_name =  sample_df[\"id\"].to_numpy()\n",
    "train_label = label_df[\"label\"].to_numpy()\n",
    "\n",
    "def plot_photo(N, nc = 4, pos = True):\n",
    "    \n",
    "    nr =  math.ceil(N/nc)\n",
    "    n_train = train_name.shape[0]\n",
    "    fig, ax = plt.subplots(nr, nc, figsize = (15, nr*3.2))\n",
    "    \n",
    "    np.random.seed(1)\n",
    "    \n",
    "    IDs = np.random.choice(n_train, N, replace = False)\n",
    "    \n",
    "    if pos:\n",
    "        filter1 = train_label == 1\n",
    "    else:\n",
    "        filter1 = train_label == 0\n",
    "        \n",
    "    names_1 = train_name[filter1]\n",
    "    \n",
    "    names = np.random.choice(names_1, N, replace = False)\n",
    "    \n",
    "    for k in range(N):\n",
    "        i =  int(k/nc)\n",
    "        j = k % nc\n",
    "        fname =  folder_train + names[k] + \".tif\"\n",
    "        img = cv2.imread(fname)\n",
    "        ax[i,j].imshow(img)"
   ]
  }
 ],
 "metadata": {
  "kernelspec": {
   "display_name": "Python 3 (ipykernel)",
   "language": "python",
   "name": "python3"
  },
  "language_info": {
   "codemirror_mode": {
    "name": "ipython",
    "version": 3
   },
   "file_extension": ".py",
   "mimetype": "text/x-python",
   "name": "python",
   "nbconvert_exporter": "python",
   "pygments_lexer": "ipython3",
   "version": "3.10.9"
  }
 },
 "nbformat": 4,
 "nbformat_minor": 5
}
